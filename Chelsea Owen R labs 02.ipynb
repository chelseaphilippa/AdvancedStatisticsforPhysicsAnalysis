{
 "cells": [
  {
   "cell_type": "markdown",
   "id": "adolescent-rabbit",
   "metadata": {},
   "source": [
    "### Exercise 1"
   ]
  },
  {
   "cell_type": "code",
   "execution_count": 1,
   "id": "headed-cover",
   "metadata": {},
   "outputs": [
    {
     "data": {
      "text/html": [
       "<table>\n",
       "<tbody>\n",
       "\t<tr><th scope=row>x</th><td>15.58</td><td>15.90</td><td>16.00</td><td>16.10</td><td>16.20</td></tr>\n",
       "\t<tr><th scope=row>p1</th><td> 0.15</td><td> 0.21</td><td> 0.35</td><td> 0.15</td><td> 0.14</td></tr>\n",
       "\t<tr><th scope=row>p2</th><td> 0.14</td><td> 0.05</td><td> 0.64</td><td> 0.08</td><td> 0.09</td></tr>\n",
       "</tbody>\n",
       "</table>\n"
      ],
      "text/latex": [
       "\\begin{tabular}{r|lllll}\n",
       "\tx & 15.58 & 15.90 & 16.00 & 16.10 & 16.20\\\\\n",
       "\tp1 &  0.15 &  0.21 &  0.35 &  0.15 &  0.14\\\\\n",
       "\tp2 &  0.14 &  0.05 &  0.64 &  0.08 &  0.09\\\\\n",
       "\\end{tabular}\n"
      ],
      "text/markdown": [
       "\n",
       "| x | 15.58 | 15.90 | 16.00 | 16.10 | 16.20 |\n",
       "| p1 |  0.15 |  0.21 |  0.35 |  0.15 |  0.14 |\n",
       "| p2 |  0.14 |  0.05 |  0.64 |  0.08 |  0.09 |\n",
       "\n"
      ],
      "text/plain": [
       "   [,1]  [,2]  [,3]  [,4]  [,5] \n",
       "x  15.58 15.90 16.00 16.10 16.20\n",
       "p1  0.15  0.21  0.35  0.15  0.14\n",
       "p2  0.14  0.05  0.64  0.08  0.09"
      ]
     },
     "metadata": {},
     "output_type": "display_data"
    },
    {
     "name": "stdout",
     "output_type": "stream",
     "text": [
      "[1] \"mean p1: 15.959\"\n",
      "[1] \"mean p2: 15.9622\"\n",
      "[1] \"variance with p1: 0.045353\"\n",
      "[1] \"variance with p2: 0.04538244\"\n"
     ]
    }
   ],
   "source": [
    "x <- c(15.58, 15.9, 16, 16.1, 16.2)\n",
    "p1 <- c(0.15, 0.21, 0.35, 0.15, 0.14)\n",
    "p2 <- c(0.14, 0.05, 0.64, 0.08, 0.09)\n",
    "df1 <- rbind(x,p1,p2)\n",
    "df1\n",
    "#expected values and variance\n",
    "exp_x_1 <- sum(x*p1)\n",
    "print(paste(\"mean p1:\", exp_x_1))\n",
    "exp_x_2 <- sum(x*p2)\n",
    "print(paste(\"mean p2:\", exp_x_2))\n",
    "\n",
    "var_1 <- 1/length(x) * sum((x-exp_x_1)^2)\n",
    "print(paste(\"variance with p1:\", var_1))\n",
    "var_2 <- 1/length(x) * sum((x-exp_x_2)^2)\n",
    "print(paste(\"variance with p2:\", var_2))"
   ]
  },
  {
   "cell_type": "markdown",
   "id": "alike-seven",
   "metadata": {},
   "source": [
    "### Exercise 2"
   ]
  },
  {
   "cell_type": "code",
   "execution_count": 2,
   "id": "moving-nylon",
   "metadata": {},
   "outputs": [
    {
     "data": {
      "text/html": [
       "<ol class=list-inline>\n",
       "\t<li>0</li>\n",
       "\t<li>0.02</li>\n",
       "\t<li>0.04</li>\n",
       "\t<li>0.06</li>\n",
       "\t<li>0.08</li>\n",
       "\t<li>0.1</li>\n",
       "\t<li>0.12</li>\n",
       "\t<li>0.14</li>\n",
       "\t<li>0.16</li>\n",
       "\t<li>0.18</li>\n",
       "\t<li>0.2</li>\n",
       "\t<li>0.22</li>\n",
       "\t<li>0.24</li>\n",
       "\t<li>0.26</li>\n",
       "\t<li>0.28</li>\n",
       "\t<li>0.3</li>\n",
       "\t<li>0.32</li>\n",
       "\t<li>0.34</li>\n",
       "\t<li>0.36</li>\n",
       "\t<li>0.38</li>\n",
       "\t<li>0.4</li>\n",
       "\t<li>0.42</li>\n",
       "\t<li>0.44</li>\n",
       "\t<li>0.46</li>\n",
       "\t<li>0.48</li>\n",
       "\t<li>0.5</li>\n",
       "\t<li>0.52</li>\n",
       "\t<li>0.54</li>\n",
       "\t<li>0.56</li>\n",
       "\t<li>0.58</li>\n",
       "\t<li>0.6</li>\n",
       "\t<li>0.62</li>\n",
       "\t<li>0.64</li>\n",
       "\t<li>0.66</li>\n",
       "\t<li>0.68</li>\n",
       "\t<li>0.7</li>\n",
       "\t<li>0.72</li>\n",
       "\t<li>0.74</li>\n",
       "\t<li>0.76</li>\n",
       "\t<li>0.78</li>\n",
       "\t<li>0.8</li>\n",
       "\t<li>0.82</li>\n",
       "\t<li>0.84</li>\n",
       "\t<li>0.86</li>\n",
       "\t<li>0.88</li>\n",
       "\t<li>0.9</li>\n",
       "\t<li>0.92</li>\n",
       "\t<li>0.94</li>\n",
       "\t<li>0.96</li>\n",
       "\t<li>0.98</li>\n",
       "\t<li>1</li>\n",
       "</ol>\n"
      ],
      "text/latex": [
       "\\begin{enumerate*}\n",
       "\\item 0\n",
       "\\item 0.02\n",
       "\\item 0.04\n",
       "\\item 0.06\n",
       "\\item 0.08\n",
       "\\item 0.1\n",
       "\\item 0.12\n",
       "\\item 0.14\n",
       "\\item 0.16\n",
       "\\item 0.18\n",
       "\\item 0.2\n",
       "\\item 0.22\n",
       "\\item 0.24\n",
       "\\item 0.26\n",
       "\\item 0.28\n",
       "\\item 0.3\n",
       "\\item 0.32\n",
       "\\item 0.34\n",
       "\\item 0.36\n",
       "\\item 0.38\n",
       "\\item 0.4\n",
       "\\item 0.42\n",
       "\\item 0.44\n",
       "\\item 0.46\n",
       "\\item 0.48\n",
       "\\item 0.5\n",
       "\\item 0.52\n",
       "\\item 0.54\n",
       "\\item 0.56\n",
       "\\item 0.58\n",
       "\\item 0.6\n",
       "\\item 0.62\n",
       "\\item 0.64\n",
       "\\item 0.66\n",
       "\\item 0.68\n",
       "\\item 0.7\n",
       "\\item 0.72\n",
       "\\item 0.74\n",
       "\\item 0.76\n",
       "\\item 0.78\n",
       "\\item 0.8\n",
       "\\item 0.82\n",
       "\\item 0.84\n",
       "\\item 0.86\n",
       "\\item 0.88\n",
       "\\item 0.9\n",
       "\\item 0.92\n",
       "\\item 0.94\n",
       "\\item 0.96\n",
       "\\item 0.98\n",
       "\\item 1\n",
       "\\end{enumerate*}\n"
      ],
      "text/markdown": [
       "1. 0\n",
       "2. 0.02\n",
       "3. 0.04\n",
       "4. 0.06\n",
       "5. 0.08\n",
       "6. 0.1\n",
       "7. 0.12\n",
       "8. 0.14\n",
       "9. 0.16\n",
       "10. 0.18\n",
       "11. 0.2\n",
       "12. 0.22\n",
       "13. 0.24\n",
       "14. 0.26\n",
       "15. 0.28\n",
       "16. 0.3\n",
       "17. 0.32\n",
       "18. 0.34\n",
       "19. 0.36\n",
       "20. 0.38\n",
       "21. 0.4\n",
       "22. 0.42\n",
       "23. 0.44\n",
       "24. 0.46\n",
       "25. 0.48\n",
       "26. 0.5\n",
       "27. 0.52\n",
       "28. 0.54\n",
       "29. 0.56\n",
       "30. 0.58\n",
       "31. 0.6\n",
       "32. 0.62\n",
       "33. 0.64\n",
       "34. 0.66\n",
       "35. 0.68\n",
       "36. 0.7\n",
       "37. 0.72\n",
       "38. 0.74\n",
       "39. 0.76\n",
       "40. 0.78\n",
       "41. 0.8\n",
       "42. 0.82\n",
       "43. 0.84\n",
       "44. 0.86\n",
       "45. 0.88\n",
       "46. 0.9\n",
       "47. 0.92\n",
       "48. 0.94\n",
       "49. 0.96\n",
       "50. 0.98\n",
       "51. 1\n",
       "\n",
       "\n"
      ],
      "text/plain": [
       " [1] 0.00 0.02 0.04 0.06 0.08 0.10 0.12 0.14 0.16 0.18 0.20 0.22 0.24 0.26 0.28\n",
       "[16] 0.30 0.32 0.34 0.36 0.38 0.40 0.42 0.44 0.46 0.48 0.50 0.52 0.54 0.56 0.58\n",
       "[31] 0.60 0.62 0.64 0.66 0.68 0.70 0.72 0.74 0.76 0.78 0.80 0.82 0.84 0.86 0.88\n",
       "[46] 0.90 0.92 0.94 0.96 0.98 1.00"
      ]
     },
     "metadata": {},
     "output_type": "display_data"
    },
    {
     "data": {
      "image/png": "[encoded data removed]",
      "text/plain": [
       "Plot with title \"Waiting times at the doctor\""
      ]
     },
     "metadata": {},
     "output_type": "display_data"
    }
   ],
   "source": [
    "#waiting time:30 mins - exponential pdf w rate 1/30\n",
    "#A) waiting time for 50 people and plot histogram\n",
    "lambda <- 1/30\n",
    "#x <- 0:49\n",
    "x <- seq(0,1,by =1/50)\n",
    "x\n",
    "ap <- rexp(x,lambda)\n",
    "hist(ap, main=\"Waiting times at the doctor\", xlab=\"number of minutes\", ylab=\"distribution\", col=\"darkviolet\")\n",
    "#hist(v,main,xlab,xlim,ylim,breaks,col,border)\n"
   ]
  },
  {
   "cell_type": "code",
   "execution_count": 3,
   "id": "traditional-project",
   "metadata": {},
   "outputs": [
    {
     "name": "stdout",
     "output_type": "stream",
     "text": [
      "[1] \"probability of waiting less than ten mins\"\n"
     ]
    },
    {
     "data": {
      "text/html": [
       "0.283468689426211"
      ],
      "text/latex": [
       "0.283468689426211"
      ],
      "text/markdown": [
       "0.283468689426211"
      ],
      "text/plain": [
       "[1] 0.2834687"
      ]
     },
     "metadata": {},
     "output_type": "display_data"
    },
    {
     "name": "stdout",
     "output_type": "stream",
     "text": [
      "[1] \"mean of generated data\"\n"
     ]
    },
    {
     "data": {
      "text/html": [
       "31.6795548537866"
      ],
      "text/latex": [
       "31.6795548537866"
      ],
      "text/markdown": [
       "31.6795548537866"
      ],
      "text/plain": [
       "[1] 31.67955"
      ]
     },
     "metadata": {},
     "output_type": "display_data"
    },
    {
     "name": "stdout",
     "output_type": "stream",
     "text": [
      "[1] \"prob of waiting more than one hour\"\n"
     ]
    },
    {
     "data": {
      "text/html": [
       "0.135335283236613"
      ],
      "text/latex": [
       "0.135335283236613"
      ],
      "text/markdown": [
       "0.135335283236613"
      ],
      "text/plain": [
       "[1] 0.1353353"
      ]
     },
     "metadata": {},
     "output_type": "display_data"
    }
   ],
   "source": [
    "#B) prob a person will wait less than 10 mins\n",
    "print(\"probability of waiting less than ten mins\")\n",
    "pexp(10, lambda)\n",
    "#C) avg waiting time from simulated data\n",
    "print(\"mean of generated data\")\n",
    "mean(ap) #expected value of generated data is smaller than true expected value of 30 mins\n",
    "\n",
    "#integrate_numerically(ap, -Inf, Inf)\n",
    "#find_mean(dexp, rate=lambda)\n",
    "\n",
    "#expected mean is 1/lambda = 30mins\n",
    "\n",
    "#D) prob waiting more than one hour\n",
    "print(\"prob of waiting more than one hour\")\n",
    "1-pexp(60,lambda)"
   ]
  },
  {
   "cell_type": "markdown",
   "id": "controlling-coating",
   "metadata": {},
   "source": [
    "### Question 3"
   ]
  },
  {
   "cell_type": "code",
   "execution_count": 4,
   "id": "acceptable-camera",
   "metadata": {},
   "outputs": [
    {
     "data": {
      "image/png": "[encoded data removed]",
      "text/plain": [
       "Plot with title \"Poisson dist for number of book typos\""
      ]
     },
     "metadata": {},
     "output_type": "display_data"
    }
   ],
   "source": [
    "#3 - one typo every 3 pages - poisson dist, plot pdf and cpf\n",
    "#books normally have 300 ish pages\n",
    "x <- 0:300 #number of opportunities for an error\n",
    "lambda <- 1/3 #prob to have an error on the page\n",
    "mean <- 1/3*length(x)\n",
    "\n",
    "pdf <- dpois(x, mean)\n",
    "#pdf\n",
    "\n",
    "plot(pdf, type=\"h\", lwd=2, main = \"Poisson dist for number of book typos\")\n",
    "#lines(cdf, type = \"h\", lwd=2, col=\"red\")"
   ]
  },
  {
   "cell_type": "code",
   "execution_count": 5,
   "id": "desirable-sister",
   "metadata": {},
   "outputs": [
    {
     "data": {
      "text/html": [
       "0.283468689426211"
      ],
      "text/latex": [
       "0.283468689426211"
      ],
      "text/markdown": [
       "0.283468689426211"
      ],
      "text/plain": [
       "[1] 0.2834687"
      ]
     },
     "metadata": {},
     "output_type": "display_data"
    },
    {
     "data": {
      "image/png": "[encoded data removed]",
      "text/plain": [
       "Plot with title \"cumulative distribution of number of errors in a book\""
      ]
     },
     "metadata": {},
     "output_type": "display_data"
    }
   ],
   "source": [
    "cdf <- ppois(x, mean, log.p=F) # (cumulative)\n",
    "#cdf\n",
    "plot(cdf, type = \"h\", lwd=2, col=\"red\", main=\"cumulative distribution of number of errors in a book\")\n",
    "\n",
    "#prob of at least one error on the page \n",
    "1-dpois(0,lambda)"
   ]
  },
  {
   "cell_type": "markdown",
   "id": "casual-pound",
   "metadata": {},
   "source": [
    "### Question 4"
   ]
  },
  {
   "cell_type": "code",
   "execution_count": 6,
   "id": "stock-doubt",
   "metadata": {},
   "outputs": [
    {
     "name": "stdout",
     "output_type": "stream",
     "text": [
      "[1] \"prob that 10 or more draws are needed:\"\n"
     ]
    },
    {
     "data": {
      "text/html": [
       "0.176581970239918"
      ],
      "text/latex": [
       "0.176581970239918"
      ],
      "text/markdown": [
       "0.176581970239918"
      ],
      "text/plain": [
       "[1] 0.176582"
      ]
     },
     "metadata": {},
     "output_type": "display_data"
    }
   ],
   "source": [
    "#4 draw from deck w replacement until one ace found\n",
    "#what is prob 10 or more draws are needed\n",
    "#binomial dist \n",
    "N <- 52\n",
    "Ace <- 4\n",
    "#mean <- n*Ace/N #n attempts\n",
    "prob <- pbinom(1, 10, 4/52)\n",
    "print(\"prob that 10 or more draws are needed:\")\n",
    "1-prob"
   ]
  },
  {
   "cell_type": "markdown",
   "id": "ordinary-weapon",
   "metadata": {},
   "source": [
    "### Question 5 \n",
    "time for test - density function "
   ]
  },
  {
   "cell_type": "code",
   "execution_count": 7,
   "id": "spare-toner",
   "metadata": {},
   "outputs": [
    {
     "name": "stderr",
     "output_type": "stream",
     "text": [
      "\n",
      "Attaching package: 'dplyr'\n",
      "\n",
      "The following objects are masked from 'package:stats':\n",
      "\n",
      "    filter, lag\n",
      "\n",
      "The following objects are masked from 'package:base':\n",
      "\n",
      "    intersect, setdiff, setequal, union\n",
      "\n"
     ]
    },
    {
     "data": {
      "text/html": [
       "49.98"
      ],
      "text/latex": [
       "49.98"
      ],
      "text/markdown": [
       "49.98"
      ],
      "text/plain": [
       "[1] 49.98"
      ]
     },
     "metadata": {},
     "output_type": "display_data"
    },
    {
     "data": {
      "text/html": [
       "0.120048019207683"
      ],
      "text/latex": [
       "0.120048019207683"
      ],
      "text/markdown": [
       "0.120048019207683"
      ],
      "text/plain": [
       "[1] 0.120048"
      ]
     },
     "metadata": {},
     "output_type": "display_data"
    }
   ],
   "source": [
    "library(dplyr)\n",
    "\n",
    "dens_func <- function(t) (t-1)*(2-t)\n",
    "\n",
    "data = data.frame(x = seq(0.5,2.5,by =1/50))\n",
    "c=6\n",
    "data$y = with(data, ifelse(x>1 & x<2, 6*(x-1)*(2-x), 0))\n",
    "sum(data$y)\n",
    "1/8.33"
   ]
  },
  {
   "cell_type": "code",
   "execution_count": 8,
   "id": "different-array",
   "metadata": {},
   "outputs": [
    {
     "data": {
      "text/html": [
       "<pre class=language-r><code>function (t) \n",
       "(t - 1) * (2 - t)</code></pre>"
      ],
      "text/latex": [
       "\\begin{minted}{r}\n",
       "function (t) \n",
       "(t - 1) * (2 - t)\n",
       "\\end{minted}"
      ],
      "text/markdown": [
       "```r\n",
       "function (t) \n",
       "(t - 1) * (2 - t)\n",
       "```"
      ],
      "text/plain": [
       "function(t) (t-1)*(2-t)"
      ]
     },
     "metadata": {},
     "output_type": "display_data"
    },
    {
     "data": {
      "text/plain": [
       "0.1666667 with absolute error < 1.9e-15"
      ]
     },
     "metadata": {},
     "output_type": "display_data"
    },
    {
     "data": {
      "text/html": [
       "-0.833333333333333"
      ],
      "text/latex": [
       "-0.833333333333333"
      ],
      "text/markdown": [
       "-0.833333333333333"
      ],
      "text/plain": [
       "[1] -0.8333333"
      ]
     },
     "metadata": {},
     "output_type": "display_data"
    },
    {
     "data": {
      "text/html": [
       "-0.666666666666667"
      ],
      "text/latex": [
       "-0.666666666666667"
      ],
      "text/markdown": [
       "-0.666666666666667"
      ],
      "text/plain": [
       "[1] -0.6666667"
      ]
     },
     "metadata": {},
     "output_type": "display_data"
    },
    {
     "data": {
      "text/html": [
       "6"
      ],
      "text/latex": [
       "6"
      ],
      "text/markdown": [
       "6"
      ],
      "text/plain": [
       "[1] 6"
      ]
     },
     "metadata": {},
     "output_type": "display_data"
    },
    {
     "data": {
      "text/plain": [
       "1 with absolute error < 1.1e-14"
      ]
     },
     "metadata": {},
     "output_type": "display_data"
    }
   ],
   "source": [
    "dens_func\n",
    "integrate(dens_func, lower=1, upper=2)\n",
    "\n",
    "c <- 1/0.166666666\n",
    "#c value is 6\n",
    "\n",
    "#integral of 3t-2-t*2 is (-t*3)/3 + 3/2(t*2) - 2t + const\n",
    "#(-t*3)/3 + 3/2*(t*2) -2*t == 1/c\n",
    "t=1\n",
    "a <- (-t^3)/3 + 3/2*(t^2) -2*t\n",
    "t=2\n",
    "b <- (-t^3)/3 + 3/2*(t^2) -2*t\n",
    "a\n",
    "b\n",
    "\n",
    "d <- 1/(b-a)\n",
    "d #c value is 6 (confirmed analytically)\n",
    "\n",
    "dens_func <- function(t) 6* (t-1)*(2-t)\n",
    "integrate(dens_func, lower=1, upper=2)"
   ]
  },
  {
   "cell_type": "code",
   "execution_count": 16,
   "id": "subjective-beverage",
   "metadata": {},
   "outputs": [
    {
     "name": "stdout",
     "output_type": "stream",
     "text": [
      "[1] \"mean 0.995016996261587\"\n",
      "[1] \"standard deviation 0.40107353487791\"\n"
     ]
    },
    {
     "data": {
      "image/png": "[encoded data removed]",
      "text/plain": [
       "Plot with title \"Cumulative Dist Func\""
      ]
     },
     "metadata": {},
     "output_type": "display_data"
    }
   ],
   "source": [
    "#mean value\n",
    "print(paste(\"mean\", mean(data$y[data$y != 0])))\n",
    "#std value\n",
    "print(paste(\"standard deviation\", sd(data$y[data$y != 0])))\n",
    "par(mfrow = c(2,1))\n",
    "\n",
    "#set of functions\n",
    "df <- function(t) {\n",
    "    val <-  6* (t-1)*(2-t)\n",
    "    return(val)\n",
    "}\n",
    "#cumulative    \n",
    "pf <- function(t) {\n",
    "    val <- -6*(t^3/3-3*t^2/2+2*t)\n",
    "    return(val)\n",
    "}\n",
    "#inverse cumulative\n",
    "qf <- function(t) {\n",
    "    val <- function(x) {inverse(pf, lower=1, upper=2)}\n",
    "    return(val(t))\n",
    "}\n",
    "#random value\n",
    "rf <- function(x) {\n",
    "    us <- runif(x)\n",
    "    val <- df(x)\n",
    "    return(val)\n",
    "}\n",
    "\n",
    "\n",
    "#pdf plot\n",
    "plot(data$x, data$y, col=\"gold3\", pch=\"+\", xlab=\"x\", ylab=\"y\", main=\"Density Dist Func\")\n",
    "#cdf\n",
    "plot(data$x, cumsum(data$y), col=\"hotpink\", pch=\"+\", xlab=\"x\", ylab=\"y\", main=\"Cumulative Dist Func\")\n"
   ]
  },
  {
   "cell_type": "code",
   "execution_count": 10,
   "id": "informative-powder",
   "metadata": {},
   "outputs": [
    {
     "data": {
      "text/plain": [
       "0.84375 with absolute error < 9.4e-15"
      ]
     },
     "metadata": {},
     "output_type": "display_data"
    },
    {
     "data": {
      "text/plain": [
       "0.5 with absolute error < 5.6e-15"
      ]
     },
     "metadata": {},
     "output_type": "display_data"
    }
   ],
   "source": [
    "#prob to finish in more than 75 mins = 1.25h\n",
    "integrate(dens_func, lower=1.25, upper=2)\n",
    "#prob to finish between 90 and 120 mins = 1.5 to 2hrs\n",
    "integrate(dens_func, lower=1.5, upper=2)"
   ]
  },
  {
   "cell_type": "markdown",
   "id": "consecutive-community",
   "metadata": {},
   "source": [
    "### Exercise 6\n"
   ]
  },
  {
   "cell_type": "code",
   "execution_count": 11,
   "id": "velvet-pottery",
   "metadata": {},
   "outputs": [],
   "source": [
    "#lifetime of tire 10^4 (x) km\n",
    "data = data.frame(x = seq(0.8,2.2,by=1/50))\n",
    "c=6\n",
    "data$y = with(data, ifelse(x>1 & x<2, 2/(x^2), 0))"
   ]
  },
  {
   "cell_type": "code",
   "execution_count": 17,
   "id": "cultural-lotus",
   "metadata": {},
   "outputs": [
    {
     "name": "stdout",
     "output_type": "stream",
     "text": [
      "[1] \"mean 0.995016996261587\"\n",
      "[1] \"standard deviation 0.40107353487791\"\n"
     ]
    },
    {
     "data": {
      "image/png": "[encoded data removed]",
      "text/plain": [
       "Plot with title \"Cumulative Dist Func\""
      ]
     },
     "metadata": {},
     "output_type": "display_data"
    }
   ],
   "source": [
    "#mean value\n",
    "print(paste(\"mean\", mean(data$y[data$y != 0])))\n",
    "#std value\n",
    "print(paste(\"standard deviation\", sd(data$y[data$y != 0])))\n",
    "par(mfrow = c(2,1))\n",
    "\n",
    "#set of functions\n",
    "df <- function(t) {\n",
    "    val <-  ifelse(x<2 && x >1, 2/x^2, 0)\n",
    "    return(val)\n",
    "}\n",
    "#cumulative    \n",
    "pf <- function(t) {\n",
    "    val <- ifelse(x<2 && x >1, -2/x, 0)\n",
    "    return(val)\n",
    "}\n",
    "#inverse cumulative\n",
    "qf <- function(t) {\n",
    "    val <- function(x) {inverse(pf, lower=1, upper=2)}\n",
    "    return(val(t))\n",
    "}\n",
    "#random value\n",
    "rf <- function(x) {\n",
    "    us <- runif(x)\n",
    "    val <- df(x)\n",
    "    return(val)\n",
    "}\n",
    "\n",
    "\n",
    "#pdf plot\n",
    "plot(data$x*10^4, data$y, col=\"gold3\", pch=\"+\", xlab=\"x\", ylab=\"y\", main=\"Dist Func\")\n",
    "#cdf\n",
    "plot(data$x*10^4, cumsum(data$y), col=\"hotpink\", pch=\"+\", xlab=\"x\", ylab=\"y\", main=\"Cumulative Dist Func\")\n"
   ]
  },
  {
   "cell_type": "code",
   "execution_count": 13,
   "id": "differential-overview",
   "metadata": {},
   "outputs": [
    {
     "data": {
      "text/plain": [
       "0.6666667 with absolute error < 7.4e-15"
      ]
     },
     "metadata": {},
     "output_type": "display_data"
    }
   ],
   "source": [
    "#prob last less than 15000 km\n",
    "tirelifetime <- function(x) {\n",
    "    return(2/x^2)\n",
    "}\n",
    "integrate(tirelifetime, lower=1, upper=1.5)\n",
    "#66% probability of less than 15000 km"
   ]
  },
  {
   "cell_type": "code",
   "execution_count": 14,
   "id": "dominant-subdivision",
   "metadata": {},
   "outputs": [
    {
     "name": "stdout",
     "output_type": "stream",
     "text": [
      "[1] \"mean\"\n"
     ]
    },
    {
     "data": {
      "text/html": [
       "1.00266223725535"
      ],
      "text/latex": [
       "1.00266223725535"
      ],
      "text/markdown": [
       "1.00266223725535"
      ],
      "text/plain": [
       "[1] 1.002662"
      ]
     },
     "metadata": {},
     "output_type": "display_data"
    },
    {
     "name": "stdout",
     "output_type": "stream",
     "text": [
      "[1] \"variance\"\n"
     ]
    },
    {
     "data": {
      "text/html": [
       "0.163472785921295"
      ],
      "text/latex": [
       "0.163472785921295"
      ],
      "text/markdown": [
       "0.163472785921295"
      ],
      "text/plain": [
       "[1] 0.1634728"
      ]
     },
     "metadata": {},
     "output_type": "display_data"
    },
    {
     "name": "stdout",
     "output_type": "stream",
     "text": [
      "[1] \"check\"\n"
     ]
    },
    {
     "data": {
      "text/html": [
       "0.404317679456755"
      ],
      "text/latex": [
       "0.404317679456755"
      ],
      "text/markdown": [
       "0.404317679456755"
      ],
      "text/plain": [
       "[1] 0.4043177"
      ]
     },
     "metadata": {},
     "output_type": "display_data"
    },
    {
     "data": {
      "text/html": [
       "0.404385082587915"
      ],
      "text/latex": [
       "0.404385082587915"
      ],
      "text/markdown": [
       "0.404385082587915"
      ],
      "text/plain": [
       "[1] 0.4043851"
      ]
     },
     "metadata": {},
     "output_type": "display_data"
    }
   ],
   "source": [
    "#c) sample 3000 random vars from dist to determine mean and var \n",
    "x_vals <- sample(seq(1,2,by=1/7000), size=3000, replace =T)\n",
    "#x_vals\n",
    "dist_vals <- tirelifetime(x_vals)\n",
    "print(\"mean\")\n",
    "mean(dist_vals)\n",
    "var <- mean(dist_vals^2) - (mean(dist_vals)^2)\n",
    "print(\"variance\")\n",
    "var\n",
    "\n",
    "##check##\n",
    "print(\"check\")\n",
    "sqrt(var)\n",
    "sd(dist_vals)"
   ]
  },
  {
   "cell_type": "code",
   "execution_count": null,
   "id": "attached-entity",
   "metadata": {},
   "outputs": [],
   "source": []
  }
 ],
 "metadata": {
  "kernelspec": {
   "display_name": "R",
   "language": "R",
   "name": "ir"
  },
  "language_info": {
   "codemirror_mode": "r",
   "file_extension": ".r",
   "mimetype": "text/x-r-source",
   "name": "R",
   "pygments_lexer": "r",
   "version": "3.6.1"
  }
 },
 "nbformat": 4,
 "nbformat_minor": 5
}
